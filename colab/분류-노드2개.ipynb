{
  "cells": [
    {
      "cell_type": "markdown",
      "id": "df693600",
      "metadata": {
        "id": "df693600"
      },
      "source": [
        "# 4장. 가장 훌륭한 예측선"
      ]
    },
    {
      "cell_type": "markdown",
      "id": "cb4bb2c8",
      "metadata": {
        "id": "cb4bb2c8"
      },
      "source": [
        "## 4. 파이썬 코딩으로 확인하는 최소 제곱"
      ]
    },
    {
      "cell_type": "markdown",
      "id": "8ce90623",
      "metadata": {
        "id": "8ce90623"
      },
      "source": [
        "### 1. 환경 준비"
      ]
    },
    {
      "cell_type": "code",
      "execution_count": null,
      "id": "86907981",
      "metadata": {
        "id": "86907981"
      },
      "outputs": [],
      "source": [
        "import numpy as np"
      ]
    },
    {
      "cell_type": "markdown",
      "id": "26e7632f",
      "metadata": {
        "id": "26e7632f"
      },
      "source": [
        "### 2. 데이터 준비"
      ]
    },
    {
      "cell_type": "code",
      "execution_count": null,
      "id": "a1678fe5",
      "metadata": {
        "id": "a1678fe5"
      },
      "outputs": [],
      "source": [
        "# 공부한 시간과 점수를 각각 x, y라는 이름의 넘파이 배열로 만듭니다.\n",
        "x = np.array([2, 4, 6, 8])\n",
        "y = np.array([81, 93, 91, 97])"
      ]
    },
    {
      "cell_type": "markdown",
      "id": "2ad27943",
      "metadata": {
        "id": "2ad27943"
      },
      "source": [
        "#### [x와 y의 평균값]"
      ]
    },
    {
      "cell_type": "code",
      "execution_count": null,
      "id": "ba68a3b7",
      "metadata": {
        "id": "ba68a3b7",
        "outputId": "aba51b93-ad17-4772-eabe-394e48d3e3eb"
      },
      "outputs": [
        {
          "name": "stdout",
          "output_type": "stream",
          "text": [
            "x의 평균값: 5.0\n",
            "y의 평균값: 90.5\n"
          ]
        }
      ],
      "source": [
        "#x의 평균값을 구합니다.\n",
        "mx = np.mean(x)\n",
        "\n",
        "#y의 평균값을 구합니다.\n",
        "my = np.mean(y)\n",
        "\n",
        "# 출력으로 확인합니다.\n",
        "print(\"x의 평균값:\", mx)\n",
        "print(\"y의 평균값:\", my)"
      ]
    },
    {
      "cell_type": "markdown",
      "id": "86e62f9d",
      "metadata": {
        "id": "86e62f9d"
      },
      "source": [
        "#### [기울기 공식의 분모와 분자]"
      ]
    },
    {
      "cell_type": "code",
      "execution_count": null,
      "id": "8ca14c62",
      "metadata": {
        "id": "8ca14c62",
        "outputId": "9907b990-0e51-4578-f863-451f21ca8089"
      },
      "outputs": [
        {
          "name": "stdout",
          "output_type": "stream",
          "text": [
            "분모: 20.0\n",
            "분자: 46.0\n"
          ]
        }
      ],
      "source": [
        "# 기울기 공식의 분모 부분입니다.\n",
        "divisor = sum([(i - mx)**2 for i in x])\n",
        "\n",
        "# 기울기 공식의 분자 부분입니다.\n",
        "def top(x, mx, y, my):\n",
        "    d = 0\n",
        "    for i in range(len(x)):\n",
        "        d += (x[i] - mx) * (y[i] - my)\n",
        "    return d\n",
        "dividend = top(x, mx, y, my)\n",
        "\n",
        "# 출력으로 확인합니다.\n",
        "print(\"분모:\", divisor)\n",
        "print(\"분자:\", dividend)"
      ]
    },
    {
      "cell_type": "markdown",
      "id": "c117d1fe",
      "metadata": {
        "id": "c117d1fe"
      },
      "source": [
        "### 3. 기울기와 y 절편 구하기"
      ]
    },
    {
      "cell_type": "code",
      "execution_count": null,
      "id": "0fa99a7d",
      "metadata": {
        "id": "0fa99a7d",
        "outputId": "a8b35abb-ebc1-49fe-e8ed-22d0b8e94018"
      },
      "outputs": [
        {
          "name": "stdout",
          "output_type": "stream",
          "text": [
            "기울기 a = 2.3\n",
            "y절편 b = 79.0\n"
          ]
        }
      ],
      "source": [
        "# 기울기 a를 구하는 공식입니다.\n",
        "a = dividend / divisor\n",
        "\n",
        "# y 절편 b를 구하는 공식입니다.\n",
        "b = my - (mx*a)\n",
        "\n",
        "# 출력으로 확인합니다.\n",
        "print(\"기울기 a =\", a)\n",
        "print(\"y절편 b =\", b)"
      ]
    },
    {
      "cell_type": "markdown",
      "id": "4fb18def",
      "metadata": {
        "id": "4fb18def"
      },
      "source": [
        "## 6. 파이썬 코딩으로 확인하는 평균 제곱 오차"
      ]
    },
    {
      "cell_type": "markdown",
      "id": "e03f22bc",
      "metadata": {
        "id": "e03f22bc"
      },
      "source": [
        "### 1. 환경 준비"
      ]
    },
    {
      "cell_type": "code",
      "execution_count": 1,
      "id": "ef1960f8",
      "metadata": {
        "id": "ef1960f8"
      },
      "outputs": [],
      "source": [
        "import numpy as np"
      ]
    },
    {
      "cell_type": "markdown",
      "id": "d269ffc7",
      "metadata": {
        "id": "d269ffc7"
      },
      "source": [
        "### 2. 데이터 준비"
      ]
    },
    {
      "cell_type": "code",
      "execution_count": 3,
      "id": "3aa4d4da",
      "metadata": {
        "id": "3aa4d4da"
      },
      "outputs": [],
      "source": [
        "# 가상의 기울기 a와 y 절편 b를 정합니다.\n",
        "fake_a=3\n",
        "fake_b=76\n",
        "\n",
        "# 공부 시간  y의 넘파x와 성적이 배열을 만듭니다.\n",
        "x = np.array([2, 4, 6, 8])\n",
        "y = np.array([81, 93, 91, 97])"
      ]
    },
    {
      "cell_type": "markdown",
      "id": "5673ef31",
      "metadata": {
        "id": "5673ef31"
      },
      "source": [
        "### 3. 평균 제곱 오차 구하기"
      ]
    },
    {
      "cell_type": "code",
      "execution_count": 5,
      "id": "142745f3",
      "metadata": {
        "id": "142745f3",
        "outputId": "b833d9fd-4b4c-4099-f7d2-5d2e43da9546",
        "colab": {
          "base_uri": "https://localhost:8080/"
        }
      },
      "outputs": [
        {
          "output_type": "stream",
          "name": "stdout",
          "text": [
            "공부시간=2, 실제점수=81, 예측점수=82\n",
            "공부시간=4, 실제점수=93, 예측점수=88\n",
            "공부시간=6, 실제점수=91, 예측점수=94\n",
            "공부시간=8, 실제점수=97, 예측점수=100\n"
          ]
        }
      ],
      "source": [
        "# y=ax + b에 가상의 a,b 값을 대입한 결과를 출력하는 함수입니다.\n",
        "def predict(x):\n",
        "    return fake_a * x + fake_b\n",
        "\n",
        "# 예측 값이 들어갈 빈 리스트를 만듭니다.\n",
        "predict_result = []\n",
        "\n",
        "# 모든 x 값을 한 번씩 대입하여 predict_result 리스트를 완성합니다.\n",
        "for i in range(len(x)):\n",
        "    predict_result.append(predict(x[i]))\n",
        "    print(\"공부시간=%.f, 실제점수=%.f, 예측점수=%.f\" % (x[i], y[i], predict(x[i])))"
      ]
    },
    {
      "cell_type": "code",
      "execution_count": 6,
      "id": "c90e102f",
      "metadata": {
        "id": "c90e102f",
        "outputId": "2cd29c79-233a-48d7-fc18-557653442620",
        "colab": {
          "base_uri": "https://localhost:8080/"
        }
      },
      "outputs": [
        {
          "output_type": "stream",
          "name": "stdout",
          "text": [
            "평균 제곱 오차: 11.0\n"
          ]
        }
      ],
      "source": [
        "# 평균 제곱 오차 함수를 각 y 값에 대입하여 최종 값을 구하는 함수입니다.\n",
        "n=len(x)\n",
        "def mse(y, y_pred):\n",
        "    return (1/n) * sum((y - y_pred)**2)\n",
        "\n",
        "# 평균 제곱 오차 값을 출력합니다.\n",
        "print(\"평균 제곱 오차: \" + str(mse(y,predict_result)))"
      ]
    },
    {
      "cell_type": "code",
      "source": [
        "import torch\n",
        "import torch.nn as nn\n",
        "import torch.optim as optim\n",
        "from sklearn.datasets import make_classification\n",
        "from sklearn.model_selection import train_test_split\n",
        "from sklearn.preprocessing import StandardScaler\n",
        "import matplotlib.pyplot as plt\n",
        "\n",
        "# 1. 데이터 생성 (클래스 3개)\n",
        "X, y = make_classification(n_samples=1000, n_features=4, n_classes=3,\n",
        "                           n_informative=3, n_redundant=0, random_state=42)\n",
        "\n",
        "# 2. 학습/검증 분리\n",
        "X_train, X_val, y_train, y_val = train_test_split(X, y, test_size=0.2, random_state=42)\n",
        "\n",
        "# 3. 정규화\n",
        "scaler = StandardScaler()\n",
        "X_train = scaler.fit_transform(X_train)\n",
        "X_val = scaler.transform(X_val)\n",
        "#print(X_train,X_val)\n",
        "\n",
        "# 4. 텐서 변환\n",
        "X_train = torch.tensor(X_train, dtype=torch.float32)\n",
        "X_val = torch.tensor(X_val, dtype=torch.float32)\n",
        "y_train = torch.tensor(y_train, dtype=torch.long)   # CrossEntropyLoss는 long 타입 정수\n",
        "y_val = torch.tensor(y_val, dtype=torch.long)\n",
        "\n",
        "# 5. 모델 정의 (출력 노드 수 = 클래스 수)\n",
        "model = nn.Sequential(\n",
        "    nn.Linear(4, 16),\n",
        "    nn.ReLU(),\n",
        "    nn.Linear(16, 3)  # 클래스 수 = 3\n",
        ")\n",
        "\n",
        "# 6. 손실 함수 및 옵티마이저\n",
        "criterion = nn.CrossEntropyLoss()  # 내부에 softmax 포함\n",
        "optimizer = optim.Adam(model.parameters(), lr=0.01)\n",
        "\n",
        "# 7. 학습\n",
        "epochs = 100\n",
        "train_losses = []\n",
        "val_losses = []\n",
        "\n",
        "for epoch in range(epochs):\n",
        "    model.train()\n",
        "    optimizer.zero_grad()\n",
        "    output = model(X_train)            # shape: (batch_size, 3)\n",
        "    loss = criterion(output, y_train)  # CrossEntropyLoss expects raw logits + long labels\n",
        "    loss.backward()\n",
        "    optimizer.step()\n",
        "    train_losses.append(loss.item())\n",
        "\n",
        "    # 검증\n",
        "    model.eval()\n",
        "    with torch.no_grad():\n",
        "        val_output = model(X_val)\n",
        "        val_loss = criterion(val_output, y_val)\n",
        "        val_losses.append(val_loss.item())\n",
        "\n",
        "    if epoch % 10 == 0:\n",
        "        print(f\"Epoch {epoch}: Train Loss = {loss.item():.4f}, Val Loss = {val_loss.item():.4f}\")\n",
        "\n",
        "# 8. 시각화\n",
        "plt.plot(train_losses, label=\"Train Loss\")\n",
        "plt.plot(val_losses, label=\"Val Loss\")\n",
        "plt.title(\"Multiclass Classification Loss\")\n",
        "plt.xlabel(\"Epoch\")\n",
        "plt.ylabel(\"Loss\")\n",
        "plt.legend()\n",
        "plt.grid()\n",
        "plt.show()\n",
        "\n",
        "# 9. 정확도 평가\n",
        "with torch.no_grad():\n",
        "    logits = model(X_val)     # Softmax를 적용하지 않았으므로 확률이 아닌 값 리턴\n",
        "    preds = torch.argmax(logits, dim=1)    # 가장 높은 확률의 클래스 인덱스 리턴,dim=1 1차원\n",
        "    acc = (preds == y_val).float().mean()  # 정답을 대상으로 평균 계산\n",
        "    print(f\" Validation Accuracy: {acc.item() * 100:.2f}%\")"
      ],
      "metadata": {
        "colab": {
          "base_uri": "https://localhost:8080/",
          "height": 678
        },
        "id": "xp9NATMZF2mU",
        "outputId": "59e8b67f-6396-4d97-a51e-839454b5f31f"
      },
      "id": "xp9NATMZF2mU",
      "execution_count": 22,
      "outputs": [
        {
          "output_type": "stream",
          "name": "stdout",
          "text": [
            "Epoch 0: Train Loss = 1.1374, Val Loss = 1.1005\n",
            "Epoch 10: Train Loss = 0.9039, Val Loss = 0.8926\n",
            "Epoch 20: Train Loss = 0.7499, Val Loss = 0.7578\n",
            "Epoch 30: Train Loss = 0.6511, Val Loss = 0.6732\n",
            "Epoch 40: Train Loss = 0.5921, Val Loss = 0.6076\n",
            "Epoch 50: Train Loss = 0.5470, Val Loss = 0.5514\n",
            "Epoch 60: Train Loss = 0.5056, Val Loss = 0.5085\n",
            "Epoch 70: Train Loss = 0.4704, Val Loss = 0.4730\n",
            "Epoch 80: Train Loss = 0.4436, Val Loss = 0.4503\n",
            "Epoch 90: Train Loss = 0.4224, Val Loss = 0.4310\n"
          ]
        },
        {
          "output_type": "display_data",
          "data": {
            "text/plain": [
              "<Figure size 640x480 with 1 Axes>"
            ],
            "image/png": "[encoded data removed]"
          },
          "metadata": {}
        },
        {
          "output_type": "stream",
          "name": "stdout",
          "text": [
            " Validation Accuracy: 88.00%\n"
          ]
        }
      ]
    },
    {
      "cell_type": "code",
      "source": [
        "import torch.nn.functional as F\n",
        "probs = F.softmax(logits, dim=1)  # dim=1 차원의 위치(200, 3) = (dim=0, dim=1)\n",
        "probs[0], sum(probs[0])"
      ],
      "metadata": {
        "colab": {
          "base_uri": "https://localhost:8080/"
        },
        "id": "sfmDsTLVaAXI",
        "outputId": "f901ce53-8a84-4410-bc40-2748ab28fd51"
      },
      "id": "sfmDsTLVaAXI",
      "execution_count": 23,
      "outputs": [
        {
          "output_type": "execute_result",
          "data": {
            "text/plain": [
              "(tensor([0.0657, 0.3526, 0.5817]), tensor(1.))"
            ]
          },
          "metadata": {},
          "execution_count": 23
        }
      ]
    },
    {
      "cell_type": "code",
      "source": [],
      "metadata": {
        "id": "IMM47jrWdbxQ"
      },
      "id": "IMM47jrWdbxQ",
      "execution_count": null,
      "outputs": []
    },
    {
      "cell_type": "markdown",
      "metadata": {
        "id": "212d46b0"
      },
      "source": [
        "# Task\n",
        "1. `make_classification` 함수를 사용하여 feature 수가 5이고 클래스 수가 2인 경우 데이터 1,000개를 생성합니다.\n",
        "2. 신경망을 생성할 때 1 레이어의 노드 수를 32개로 설정합니다.\n",
        "3. 신경망을 학습한 후에 신경망을 통해 1개의 데이터를 입력하고 전달하여 그 데이터가 어떻게 분류되었는지 0, 1로 표시합니다.\n",
        "4. 과도한 학습으로 과적합(overfitting) 현상이 발생하는 경우를 인위적으로 발생시켜 Val Loss가 Train Loss를 초과하는 것을 그래프로 시각화합니다.\n",
        "5. `CrossEntropyLoss`, `Softmax`를 사용하여 신경망의 출력 노드 수를 2로 설정하여 코드를 작성하되, 제공된 기존 코드를 최대한 참조합니다.\n",
        "6. `probs = F.softmax(logits, dim=1)` 코드 라인을 설명합니다."
      ],
      "id": "212d46b0"
    },
    {
      "cell_type": "markdown",
      "metadata": {
        "id": "4438cc5c"
      },
      "source": [
        "## 데이터 생성\n",
        "\n",
        "### Subtask:\n",
        "`make_classification` 함수를 사용하여 5개의 feature와 2개의 클래스를 가진 1,000개의 데이터를 생성합니다.\n"
      ],
      "id": "4438cc5c"
    },
    {
      "cell_type": "markdown",
      "metadata": {
        "id": "ffebfa3b"
      },
      "source": [
        "**Reasoning**:\n",
        "The subtask is to generate a dataset with 5 features and 2 classes using `make_classification`. This can be done by importing the function and calling it with the specified parameters.\n",
        "\n"
      ],
      "id": "ffebfa3b"
    },
    {
      "cell_type": "code",
      "metadata": {
        "id": "1eb4eab3"
      },
      "source": [
        "from sklearn.datasets import make_classification\n",
        "\n",
        "# Generate data with 5 features and 2 classes\n",
        "X, y = make_classification(n_samples=1000, n_features=5, n_classes=2, random_state=42)"
      ],
      "id": "1eb4eab3",
      "execution_count": 24,
      "outputs": []
    },
    {
      "cell_type": "markdown",
      "metadata": {
        "id": "7b06af1f"
      },
      "source": [
        "## 데이터 전처리\n",
        "\n",
        "### Subtask:\n",
        "생성된 데이터를 학습/검증 세트로 분할하고 정규화합니다.\n"
      ],
      "id": "7b06af1f"
    },
    {
      "cell_type": "markdown",
      "metadata": {
        "id": "8865ad6b"
      },
      "source": [
        "**Reasoning**:\n",
        "Split the data into training and validation sets and then normalize the features using StandardScaler.\n",
        "\n"
      ],
      "id": "8865ad6b"
    },
    {
      "cell_type": "code",
      "metadata": {
        "colab": {
          "base_uri": "https://localhost:8080/"
        },
        "id": "b4e937ac",
        "outputId": "4d9441da-370e-448d-eb80-51281631eefe"
      },
      "source": [
        "from sklearn.model_selection import train_test_split\n",
        "from sklearn.preprocessing import StandardScaler\n",
        "\n",
        "# Split the data into training and validation sets (80% train, 20% validation)\n",
        "X_train, X_val, y_train, y_val = train_test_split(X, y, test_size=0.2, random_state=42)\n",
        "\n",
        "# Initialize StandardScaler\n",
        "scaler = StandardScaler()\n",
        "\n",
        "# Fit the scaler on the training data and transform both training and validation data\n",
        "X_train = scaler.fit_transform(X_train)\n",
        "X_val = scaler.transform(X_val)\n",
        "\n",
        "print(\"Shape of X_train:\", X_train.shape)\n",
        "print(\"Shape of X_val:\", X_val.shape)\n",
        "print(\"Shape of y_train:\", y_train.shape)\n",
        "print(\"Shape of y_val:\", y_val.shape)"
      ],
      "id": "b4e937ac",
      "execution_count": 25,
      "outputs": [
        {
          "output_type": "stream",
          "name": "stdout",
          "text": [
            "Shape of X_train: (800, 5)\n",
            "Shape of X_val: (200, 5)\n",
            "Shape of y_train: (800,)\n",
            "Shape of y_val: (200,)\n"
          ]
        }
      ]
    },
    {
      "cell_type": "markdown",
      "metadata": {
        "id": "31e8bd52"
      },
      "source": [
        "## 텐서 변환\n",
        "\n",
        "### Subtask:\n",
        "전처리된 데이터를 PyTorch 텐서로 변환합니다.\n"
      ],
      "id": "31e8bd52"
    },
    {
      "cell_type": "markdown",
      "metadata": {
        "id": "c3c320ab"
      },
      "source": [
        "**Reasoning**:\n",
        "The previous step generated and preprocessed the data. Now, convert the numpy arrays to PyTorch tensors as required by the instructions.\n",
        "\n"
      ],
      "id": "c3c320ab"
    },
    {
      "cell_type": "code",
      "metadata": {
        "colab": {
          "base_uri": "https://localhost:8080/"
        },
        "id": "a2cde6da",
        "outputId": "a8fc17be-5b5a-43cc-ecac-bf63c1f4fe6d"
      },
      "source": [
        "import torch\n",
        "\n",
        "# Convert numpy arrays to PyTorch tensors\n",
        "X_train = torch.tensor(X_train, dtype=torch.float32)\n",
        "X_val = torch.tensor(X_val, dtype=torch.float32)\n",
        "y_train = torch.tensor(y_train, dtype=torch.long) # CrossEntropyLoss expects long type integers\n",
        "y_val = torch.tensor(y_val, dtype=torch.long)\n",
        "\n",
        "# Print the types of the tensors to verify\n",
        "print(\"Type of X_train:\", X_train.dtype)\n",
        "print(\"Type of X_val:\", X_val.dtype)\n",
        "print(\"Type of y_train:\", y_train.dtype)\n",
        "print(\"Type of y_val:\", y_val.dtype)"
      ],
      "id": "a2cde6da",
      "execution_count": 26,
      "outputs": [
        {
          "output_type": "stream",
          "name": "stdout",
          "text": [
            "Type of X_train: torch.float32\n",
            "Type of X_val: torch.float32\n",
            "Type of y_train: torch.int64\n",
            "Type of y_val: torch.int64\n"
          ]
        }
      ]
    },
    {
      "cell_type": "markdown",
      "metadata": {
        "id": "501d589d"
      },
      "source": [
        "## 모델 정의\n",
        "\n",
        "### Subtask:\n",
        "입력 레이어는 feature 수(5)에 맞게, 첫 번째 은닉 레이어는 32개 노드로, 출력 레이어는 클래스 수(2)에 맞게 설정하여 신경망 모델을 정의합니다. 손실 함수는 `CrossEntropyLoss`를 사용합니다.\n"
      ],
      "id": "501d589d"
    },
    {
      "cell_type": "markdown",
      "metadata": {
        "id": "4950b19e"
      },
      "source": [
        "**Reasoning**:\n",
        "Define the neural network model using `nn.Sequential` with the specified layer sizes and activation function, and define the loss function using `nn.CrossEntropyLoss`.\n",
        "\n"
      ],
      "id": "4950b19e"
    },
    {
      "cell_type": "code",
      "metadata": {
        "colab": {
          "base_uri": "https://localhost:8080/"
        },
        "id": "8e1e1fc5",
        "outputId": "822260b8-b4f3-4afc-ebb9-c827d5fe80ee"
      },
      "source": [
        "import torch.nn as nn\n",
        "\n",
        "# Define the neural network model\n",
        "model = nn.Sequential(\n",
        "    nn.Linear(5, 32),  # Input layer (5 features) to first hidden layer (32 nodes)\n",
        "    nn.ReLU(),         # ReLU activation function\n",
        "    nn.Linear(32, 2)   # First hidden layer (32 nodes) to output layer (2 classes)\n",
        ")\n",
        "\n",
        "# Define the loss function\n",
        "criterion = nn.CrossEntropyLoss()\n",
        "\n",
        "print(\"Neural network model defined.\")\n",
        "print(\"Loss function defined.\")"
      ],
      "id": "8e1e1fc5",
      "execution_count": 34,
      "outputs": [
        {
          "output_type": "stream",
          "name": "stdout",
          "text": [
            "Neural network model defined.\n",
            "Loss function defined.\n"
          ]
        }
      ]
    },
    {
      "cell_type": "markdown",
      "metadata": {
        "id": "6928f103"
      },
      "source": [
        "## 옵티마이저 설정\n",
        "\n",
        "### Subtask:\n",
        "모델 파라미터를 위한 옵티마이저를 설정합니다.\n"
      ],
      "id": "6928f103"
    },
    {
      "cell_type": "markdown",
      "metadata": {
        "id": "3595adab"
      },
      "source": [
        "**Reasoning**:\n",
        "Set up the Adam optimizer for the model parameters with a learning rate of 0.01.\n",
        "\n"
      ],
      "id": "3595adab"
    },
    {
      "cell_type": "code",
      "metadata": {
        "colab": {
          "base_uri": "https://localhost:8080/"
        },
        "id": "30fd9b9e",
        "outputId": "be4b7e4b-11b1-475b-b9d5-e1f6fe454eeb"
      },
      "source": [
        "import torch.optim as optim\n",
        "\n",
        "# Define the optimizer\n",
        "optimizer = optim.Adam(model.parameters(), lr=0.01)\n",
        "\n",
        "print(\"Optimizer defined using Adam with a learning rate of 0.01.\")"
      ],
      "id": "30fd9b9e",
      "execution_count": 35,
      "outputs": [
        {
          "output_type": "stream",
          "name": "stdout",
          "text": [
            "Optimizer defined using Adam with a learning rate of 0.01.\n"
          ]
        }
      ]
    },
    {
      "cell_type": "markdown",
      "metadata": {
        "id": "8d8abf80"
      },
      "source": [
        "## 학습 및 과적합 시각화\n",
        "\n",
        "### Subtask:\n",
        "신경망을 학습시키면서 Train Loss와 Validation Loss를 기록하고, 과적합이 발생하도록 학습 횟수를 충분히 늘립니다. 학습 과정 중의 손실 변화를 그래프로 시각화하여 Val Loss가 Train Loss를 초과하는 현상을 보여줍니다.\n"
      ],
      "id": "8d8abf80"
    },
    {
      "cell_type": "markdown",
      "metadata": {
        "id": "4ccb9176"
      },
      "source": [
        "**Reasoning**:\n",
        "Implement the training loop to train the neural network for a sufficient number of epochs to cause overfitting, while recording and printing the training and validation losses, and finally visualize the recorded losses.\n",
        "\n"
      ],
      "id": "4ccb9176"
    },
    {
      "cell_type": "code",
      "metadata": {
        "colab": {
          "base_uri": "https://localhost:8080/",
          "height": 859
        },
        "id": "61f297a1",
        "outputId": "f4ca0b06-8da5-4f2e-80d2-ca0d814dbe48"
      },
      "source": [
        "import matplotlib.pyplot as plt\n",
        "\n",
        "# Set a sufficiently large number of epochs to induce overfitting\n",
        "epochs = 200\n",
        "\n",
        "# Lists to store losses for plotting\n",
        "train_losses = []\n",
        "val_losses = []\n",
        "\n",
        "# Training loop\n",
        "for epoch in range(epochs):\n",
        "    # Training phase\n",
        "    model.train() # Set model to training mode\n",
        "    optimizer.zero_grad() # Clear gradients\n",
        "    output = model(X_train) # Forward pass\n",
        "    loss = criterion(output, y_train) # Calculate training loss\n",
        "    loss.backward() # Backpropagation\n",
        "    optimizer.step() # Update weights\n",
        "    train_losses.append(loss.item()) # Record training loss\n",
        "\n",
        "    # Validation phase\n",
        "    model.eval() # Set model to evaluation mode\n",
        "    with torch.no_grad(): # Disable gradient calculation for validation\n",
        "        val_output = model(X_val) # Forward pass on validation data\n",
        "        val_loss = criterion(val_output, y_val) # Calculate validation loss\n",
        "        val_losses.append(val_loss.item()) # Record validation loss\n",
        "\n",
        "    # Print progress every 10 epochs\n",
        "    if (epoch + 1) % 10 == 0:\n",
        "        print(f\"Epoch {epoch+1}/{epochs}: Train Loss = {loss.item():.4f}, Val Loss = {val_loss.item():.4f}\")\n",
        "\n",
        "# Visualize the training and validation losses\n",
        "plt.figure(figsize=(10, 6))\n",
        "plt.plot(train_losses, label=\"Train Loss\")\n",
        "plt.plot(val_losses, label=\"Val Loss\")\n",
        "plt.title(\"Training and Validation Loss Over Epochs\")\n",
        "plt.xlabel(\"Epoch\")\n",
        "plt.ylabel(\"Loss\")\n",
        "plt.legend()\n",
        "plt.grid(True)\n",
        "plt.show()"
      ],
      "id": "61f297a1",
      "execution_count": 38,
      "outputs": [
        {
          "output_type": "stream",
          "name": "stdout",
          "text": [
            "Epoch 10/200: Train Loss = 0.1727, Val Loss = 0.1992\n",
            "Epoch 20/200: Train Loss = 0.1723, Val Loss = 0.1996\n",
            "Epoch 30/200: Train Loss = 0.1718, Val Loss = 0.2007\n",
            "Epoch 40/200: Train Loss = 0.1713, Val Loss = 0.2005\n",
            "Epoch 50/200: Train Loss = 0.1710, Val Loss = 0.2012\n",
            "Epoch 60/200: Train Loss = 0.1706, Val Loss = 0.2021\n",
            "Epoch 70/200: Train Loss = 0.1703, Val Loss = 0.2018\n",
            "Epoch 80/200: Train Loss = 0.1700, Val Loss = 0.2017\n",
            "Epoch 90/200: Train Loss = 0.1697, Val Loss = 0.2027\n",
            "Epoch 100/200: Train Loss = 0.1694, Val Loss = 0.2029\n",
            "Epoch 110/200: Train Loss = 0.1689, Val Loss = 0.2013\n",
            "Epoch 120/200: Train Loss = 0.1680, Val Loss = 0.2047\n",
            "Epoch 130/200: Train Loss = 0.1673, Val Loss = 0.2040\n",
            "Epoch 140/200: Train Loss = 0.1667, Val Loss = 0.2009\n",
            "Epoch 150/200: Train Loss = 0.1663, Val Loss = 0.2051\n",
            "Epoch 160/200: Train Loss = 0.1659, Val Loss = 0.2030\n",
            "Epoch 170/200: Train Loss = 0.1656, Val Loss = 0.2061\n",
            "Epoch 180/200: Train Loss = 0.1654, Val Loss = 0.2035\n",
            "Epoch 190/200: Train Loss = 0.1652, Val Loss = 0.2069\n",
            "Epoch 200/200: Train Loss = 0.1649, Val Loss = 0.2075\n"
          ]
        },
        {
          "output_type": "display_data",
          "data": {
            "text/plain": [
              "<Figure size 1000x600 with 1 Axes>"
            ],
            "image/png": "[encoded data removed]"
          },
          "metadata": {}
        }
      ]
    },
    {
      "cell_type": "markdown",
      "metadata": {
        "id": "d5a032a2"
      },
      "source": [
        "## 단일 데이터 예측\n",
        "\n",
        "### Subtask:\n",
        "학습된 신경망에 1개의 데이터를 입력하여 해당 데이터가 어떤 클래스(0 또는 1)로 분류되었는지 예측하고 출력합니다.\n"
      ],
      "id": "d5a032a2"
    },
    {
      "cell_type": "markdown",
      "metadata": {
        "id": "8b4c9814"
      },
      "source": [
        "**Reasoning**:\n",
        "Select the first sample from the validation set, add a batch dimension, set the model to evaluation mode, and pass the sample through the model to get the logits. Then, use argmax to get the predicted class and print it.\n",
        "\n"
      ],
      "id": "8b4c9814"
    },
    {
      "cell_type": "code",
      "metadata": {
        "colab": {
          "base_uri": "https://localhost:8080/"
        },
        "id": "21056d9e",
        "outputId": "52c25871-8567-4222-c724-cfc3d57d3966"
      },
      "source": [
        "# Select the first sample from the validation set\n",
        "sample_data = X_val[0].unsqueeze(0) # Add a batch dimension\n",
        "\n",
        "# Set the model to evaluation mode\n",
        "model.eval()\n",
        "\n",
        "# Get predictions for the sample data within no_grad context\n",
        "with torch.no_grad():\n",
        "    logits = model(sample_data)\n",
        "\n",
        "# Get the predicted class index (0 or 1)\n",
        "predicted_class = torch.argmax(logits, dim=1)\n",
        "\n",
        "# Print the predicted class\n",
        "print(f\"Predicted class for the first validation sample: {predicted_class.item()}\")"
      ],
      "id": "21056d9e",
      "execution_count": 39,
      "outputs": [
        {
          "output_type": "stream",
          "name": "stdout",
          "text": [
            "Predicted class for the first validation sample: 1\n"
          ]
        }
      ]
    },
    {
      "cell_type": "markdown",
      "metadata": {
        "id": "a867f3de"
      },
      "source": [
        "## Summary:\n",
        "\n",
        "### Q&A\n",
        "\n",
        "*   **`probs = F.softmax(logits, dim=1)` 코드 라인을 설명합니다.**\n",
        "\n",
        "    이 코드는 신경망의 마지막 레이어에서 출력된 \"logits\"에 Softmax 함수를 적용하여 각 클래스에 속할 확률을 계산하는 역할을 합니다. `logits`는 일반적으로 모델이 각 클래스에 대해 계산한 원시 예측 점수이며, 이 점수는 어떤 범위의 값이든 가질 수 있습니다. `F.softmax(logits, dim=1)`는 이러한 로짓 값을 0과 1 사이의 값으로 변환하고, 모든 클래스의 확률 합이 1이 되도록 정규화합니다. `dim=1` 인자는 Softmax 함수를 배치 내의 각 샘플에 대해 클래스 차원(이 예시에서는 2개의 클래스)을 따라 적용하도록 지정합니다. 결과인 `probs` 텐서는 각 샘플이 각 클래스에 속할 확률을 나타냅니다.\n",
        "\n",
        "### Data Analysis Key Findings\n",
        "\n",
        "*   데이터는 1,000개의 샘플, 5개의 feature, 2개의 클래스로 생성되었습니다.\n",
        "*   생성된 데이터는 학습 세트(80%)와 검증 세트(20%)로 분할되었으며, feature는 `StandardScaler`를 사용하여 정규화되었습니다.\n",
        "*   데이터는 PyTorch 텐서로 변환되었으며, feature 텐서는 `float32`, 타겟 텐서는 `long` 타입으로 설정되었습니다.\n",
        "*   신경망 모델은 5개의 입력 노드, 32개의 은닉 노드(ReLU 활성화), 2개의 출력 노드로 정의되었습니다.\n",
        "*   손실 함수로는 이진 분류에 적합한 `CrossEntropyLoss`가 사용되었습니다.\n",
        "*   옵티마이저로는 학습률 0.01의 Adam이 사용되었습니다.\n",
        "*   모델은 200 에포크 동안 학습되었으며, 학습 과정에서 Train Loss와 Val Loss가 기록되었습니다. 시각화된 그래프에서 Val Loss가 초기에는 Train Loss와 함께 감소하다가 특정 시점 이후 Train Loss보다 높게 유지되거나 증가하는 경향을 보여 과적합이 인위적으로 발생했음을 확인할 수 있습니다.\n",
        "*   학습된 모델을 사용하여 단일 검증 데이터 샘플을 예측한 결과, 해당 샘플은 클래스 1로 분류되었습니다.\n",
        "\n",
        "### Insights or Next Steps\n",
        "\n",
        "*   과적합이 발생했음을 확인했으므로, 드롭아웃(Dropout) 추가, 조기 종료(Early Stopping), L1/L2 정규화 등 과적합 방지 기법을 적용하여 모델의 일반화 성능을 향상시키는 다음 단계를 고려할 수 있습니다.\n",
        "*   모델의 최종 성능을 평가하기 위해 정확도, 정밀도, 재현율 등 추가적인 분류 메트릭스를 계산하고 분석하는 것이 유용합니다.\n"
      ],
      "id": "a867f3de"
    }
  ],
  "metadata": {
    "kernelspec": {
      "display_name": "Python 3 (ipykernel)",
      "language": "python",
      "name": "python3"
    },
    "language_info": {
      "codemirror_mode": {
        "name": "ipython",
        "version": 3
      },
      "file_extension": ".py",
      "mimetype": "text/x-python",
      "name": "python",
      "nbconvert_exporter": "python",
      "pygments_lexer": "ipython3",
      "version": "3.9.7"
    },
    "colab": {
      "name": "ch04-colab.ipynb",
      "provenance": []
    }
  },
  "nbformat": 4,
  "nbformat_minor": 5
}